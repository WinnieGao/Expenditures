{
 "cells": [
  {
   "cell_type": "code",
   "execution_count": 1,
   "metadata": {},
   "outputs": [],
   "source": [
    "import pandas as pd\n",
    "import numpy as np\n",
    "from sklearn.linear_model import LinearRegression\n",
    "from sklearn.metrics import r2_score\n",
    "import matplotlib.pyplot as plt\n",
    "import seaborn as sns"
   ]
  },
  {
   "cell_type": "code",
   "execution_count": 2,
   "metadata": {},
   "outputs": [],
   "source": [
    "fmli = pd.read_csv(\"fmli_15_clean.csv\")"
   ]
  },
  {
   "cell_type": "code",
   "execution_count": 3,
   "metadata": {},
   "outputs": [
    {
     "name": "stderr",
     "output_type": "stream",
     "text": [
      "/Users/winnie/miniconda2/envs/tf/lib/python3.7/site-packages/ipykernel_launcher.py:2: RuntimeWarning: divide by zero encountered in log\n",
      "  \n",
      "/Users/winnie/miniconda2/envs/tf/lib/python3.7/site-packages/ipykernel_launcher.py:2: RuntimeWarning: invalid value encountered in log\n",
      "  \n"
     ]
    }
   ],
   "source": [
    "# Log every variables, save it in a new data frame for future use.\n",
    "log = np.log(fmli)\n",
    "log[\"WEIGHT\"] = fmli[\"WEIGHT\"]"
   ]
  },
  {
   "cell_type": "code",
   "execution_count": null,
   "metadata": {},
   "outputs": [],
   "source": [
    "coeff_hhsize = []\n",
    "R2_hhsize = []\n",
    "N_hhsize = []\n",
    "inter_hhsize = []\n",
    "for i in range(17, len(log.columns)):\n",
    "    df = log[[\"HHSIZE\", log.columns[i], \"WEIGHT\"]]\n",
    "    df.replace(np.Inf, np.nan, inplace = True)\n",
    "    df.dropna(inplace = True)\n",
    "    X = df.iloc[:, 0]\n",
    "    y = df.iloc[:, 1]\n",
    "    model = LinearRegression().fit(np.array(X).reshape(-1, 1), np.array(y))\n",
    "    coeff_hhsize.append(model.coef_[0])\n",
    "    y_pred = model.predict(np.array(X).reshape(-1, 1))\n",
    "    R2_hhsize.append(np.sum((y_pred - np.average(y)) ** 2) / np.sum((y_pred - y) ** 2))\n",
    "    N_hhsize.append(len(y))\n",
    "    inter_hhsize.append(model.intercept_)"
   ]
  }
 ],
 "metadata": {
  "kernelspec": {
   "display_name": "Python 3",
   "language": "python",
   "name": "python3"
  },
  "language_info": {
   "codemirror_mode": {
    "name": "ipython",
    "version": 3
   },
   "file_extension": ".py",
   "mimetype": "text/x-python",
   "name": "python",
   "nbconvert_exporter": "python",
   "pygments_lexer": "ipython3",
   "version": "3.7.3"
  }
 },
 "nbformat": 4,
 "nbformat_minor": 2
}
